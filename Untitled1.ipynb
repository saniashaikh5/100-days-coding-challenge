{
  "nbformat": 4,
  "nbformat_minor": 0,
  "metadata": {
    "colab": {
      "provenance": [],
      "authorship_tag": "ABX9TyNi95KVlqvcJExOPEJDZT7L",
      "include_colab_link": true
    },
    "kernelspec": {
      "name": "python3",
      "display_name": "Python 3"
    },
    "language_info": {
      "name": "python"
    }
  },
  "cells": [
    {
      "cell_type": "markdown",
      "metadata": {
        "id": "view-in-github",
        "colab_type": "text"
      },
      "source": [
        "<a href=\"https://colab.research.google.com/github/saniashaikh5/100-days-coding-challenge/blob/main/Untitled1.ipynb\" target=\"_parent\"><img src=\"https://colab.research.google.com/assets/colab-badge.svg\" alt=\"Open In Colab\"/></a>"
      ]
    },
    {
      "cell_type": "code",
      "execution_count": null,
      "metadata": {
        "colab": {
          "base_uri": "https://localhost:8080/"
        },
        "id": "XfIj71HQsiiR",
        "outputId": "c5c2b064-5f6f-44a5-c61d-837c64ad4e81"
      },
      "outputs": [
        {
          "output_type": "stream",
          "name": "stdout",
          "text": [
            "Hello\n"
          ]
        }
      ],
      "source": [
        "print(\"Hello\")"
      ]
    },
    {
      "cell_type": "code",
      "source": [
        "fav_food = \"Pizza\"\n",
        "print(fav_food)\n",
        "print(fav_food)\n",
        "print(fav_food)\n",
        "print(fav_food)"
      ],
      "metadata": {
        "colab": {
          "base_uri": "https://localhost:8080/"
        },
        "id": "eVqeoA0YsvXZ",
        "outputId": "fb43538e-f79f-41a8-907a-3441478053cf"
      },
      "execution_count": null,
      "outputs": [
        {
          "output_type": "stream",
          "name": "stdout",
          "text": [
            "Pizza\n",
            "Pizza\n",
            "Pizza\n",
            "Pizza\n"
          ]
        }
      ]
    },
    {
      "cell_type": "code",
      "source": [
        "fav_celebrity = \"Katrina Kaif\"\n",
        "print(fav_celebrity)\n",
        "fav_num = 5,8\n",
        "print(fav_num)"
      ],
      "metadata": {
        "colab": {
          "base_uri": "https://localhost:8080/"
        },
        "id": "Yh6K2lnCs9fb",
        "outputId": "2e1a1e58-0226-4719-de0c-bd42c764b677"
      },
      "execution_count": null,
      "outputs": [
        {
          "output_type": "stream",
          "name": "stdout",
          "text": [
            "Katrina Kaif\n",
            "(5, 8)\n"
          ]
        }
      ]
    },
    {
      "cell_type": "markdown",
      "source": [
        "Data Types\n",
        "string"
      ],
      "metadata": {
        "id": "HJRWUeuouN8B"
      }
    },
    {
      "cell_type": "code",
      "source": [
        "text_double: str = \"Hello, Python!\"\n",
        "print(text_double)"
      ],
      "metadata": {
        "colab": {
          "base_uri": "https://localhost:8080/"
        },
        "id": "sm-Z3GIcuVzw",
        "outputId": "825feb82-26ca-4d99-f991-2b73ed45b476"
      },
      "execution_count": null,
      "outputs": [
        {
          "output_type": "stream",
          "name": "stdout",
          "text": [
            "Hello, Python!\n"
          ]
        }
      ]
    },
    {
      "cell_type": "markdown",
      "source": [
        "f string"
      ],
      "metadata": {
        "id": "Jjq4akf4Eqow"
      }
    },
    {
      "cell_type": "code",
      "source": [
        "name = \"Sania\"\n",
        "age = 17\n",
        "print(f\"My name is {name}, and I'm {age} years old\")"
      ],
      "metadata": {
        "colab": {
          "base_uri": "https://localhost:8080/"
        },
        "id": "y7PLmsq9Ettw",
        "outputId": "5133b388-bce3-4513-c315-914eff1a2ed1"
      },
      "execution_count": 2,
      "outputs": [
        {
          "output_type": "stream",
          "name": "stdout",
          "text": [
            "My name is Sania, and I'm 17 years old\n"
          ]
        }
      ]
    },
    {
      "cell_type": "markdown",
      "source": [
        "Doc string"
      ],
      "metadata": {
        "id": "p5FPXGhxFj9r"
      }
    },
    {
      "cell_type": "code",
      "source": [
        "print(\"\"\" Hi! I'm Sania\n",
        "I'm a coder\n",
        "I'm 17 years old \"\"\")\n",
        "print(\"\")\n",
        "\n",
        "name = \"Sania\"\n",
        "age = 17\n",
        "print(f\"\"\" Hi! I'm {name}\n",
        "I'm a coder\n",
        "I'm {age} years old \"\"\")\n",
        "\n",
        "print(\" \")\n",
        "\n",
        "first_name = \"Hania\"\n",
        "print(\n",
        "f\"\"\"Hi {first_name},\n",
        "you got a free coupon code: HAPPY2025\n",
        "\n",
        "Best Regards,\n",
        "Sania\n",
        " \"\"\"\n",
        ")"
      ],
      "metadata": {
        "colab": {
          "base_uri": "https://localhost:8080/"
        },
        "id": "wP91LcSsFmjq",
        "outputId": "e75600bf-c31c-4bc1-c74e-7e1ed174089c"
      },
      "execution_count": 22,
      "outputs": [
        {
          "output_type": "stream",
          "name": "stdout",
          "text": [
            " Hi! I'm Sania\n",
            "I'm a coder \n",
            "I'm 17 years old \n",
            "\n",
            " Hi! I'm Sania\n",
            "I'm a coder \n",
            "I'm 17 years old \n",
            " \n",
            "Hi Hania,\n",
            "you got a free coupon code: HAPPY2025\n",
            "\n",
            "Best Regards,\n",
            "Sania\n",
            " \n"
          ]
        }
      ]
    },
    {
      "cell_type": "markdown",
      "source": [
        "Boolean"
      ],
      "metadata": {
        "id": "ExLUCnz9vV-t"
      }
    },
    {
      "cell_type": "code",
      "source": [
        "is_python_fun: bool = True\n",
        "print(is_python_fun)\n"
      ],
      "metadata": {
        "colab": {
          "base_uri": "https://localhost:8080/"
        },
        "id": "te7FI71rvbq_",
        "outputId": "ed7a92be-4346-49c1-9d44-6a672d9c3305"
      },
      "execution_count": null,
      "outputs": [
        {
          "output_type": "stream",
          "name": "stdout",
          "text": [
            "True\n"
          ]
        }
      ]
    },
    {
      "cell_type": "markdown",
      "source": [
        "List"
      ],
      "metadata": {
        "id": "jgfN15X0z97E"
      }
    },
    {
      "cell_type": "code",
      "source": [
        "my_list_1: int = [1,2,3, \"java\", 3.14, True]\n",
        "my_list: int = [1,2,3, \"python\", 3+2j]\n",
        "print(my_list_1)\n",
        "print(my_list)"
      ],
      "metadata": {
        "colab": {
          "base_uri": "https://localhost:8080/"
        },
        "id": "beum4ydW0Fd8",
        "outputId": "510e2662-7c6a-4ab1-81e0-600d8e5a4a8a"
      },
      "execution_count": null,
      "outputs": [
        {
          "output_type": "stream",
          "name": "stdout",
          "text": [
            "[1, 2, 3, 'java', 3.14, True]\n",
            "[1, 2, 3, 'python', (3+2j)]\n"
          ]
        }
      ]
    },
    {
      "cell_type": "markdown",
      "source": [
        "Tuple"
      ],
      "metadata": {
        "id": "JW3XOaMr41RG"
      }
    },
    {
      "cell_type": "code",
      "source": [
        "my_tuple: tuple = (1,2,3, \"AI\", 2.17, False, .3, 3+2j)\n",
        "print(my_tuple)"
      ],
      "metadata": {
        "colab": {
          "base_uri": "https://localhost:8080/"
        },
        "id": "ijiC56Hx44yK",
        "outputId": "33f009df-494b-4e47-d284-6133337b59eb"
      },
      "execution_count": null,
      "outputs": [
        {
          "output_type": "stream",
          "name": "stdout",
          "text": [
            "(1, 2, 3, 'AI', 2.17, False, 0.3, (3+2j))\n"
          ]
        }
      ]
    },
    {
      "cell_type": "markdown",
      "source": [
        "Range"
      ],
      "metadata": {
        "id": "wSCUOsvG5hul"
      }
    },
    {
      "cell_type": "code",
      "source": [
        "num_range: range = ( 1 , 10, 2,)\n",
        "print(num_range)"
      ],
      "metadata": {
        "colab": {
          "base_uri": "https://localhost:8080/"
        },
        "id": "3joxL1Jm5mMO",
        "outputId": "af473e4b-e71c-4aa0-9d6e-2506902b9972"
      },
      "execution_count": null,
      "outputs": [
        {
          "output_type": "stream",
          "name": "stdout",
          "text": [
            "(1, 10, 2, True)\n"
          ]
        }
      ]
    },
    {
      "cell_type": "markdown",
      "source": [
        "Numeric Types"
      ],
      "metadata": {
        "id": "kAiKFIu46iQq"
      }
    },
    {
      "cell_type": "markdown",
      "source": [
        "a. Integer"
      ],
      "metadata": {
        "id": "wGSRkaoD6m8H"
      }
    },
    {
      "cell_type": "code",
      "source": [
        "num_int: int = 42\n",
        "print(num_int)"
      ],
      "metadata": {
        "colab": {
          "base_uri": "https://localhost:8080/"
        },
        "id": "LKPR3igq6t19",
        "outputId": "8ff1426a-cdbe-4802-9cdc-862f380ad151"
      },
      "execution_count": null,
      "outputs": [
        {
          "output_type": "stream",
          "name": "stdout",
          "text": [
            "42.5\n"
          ]
        }
      ]
    },
    {
      "cell_type": "markdown",
      "source": [
        "b. Floating-Point"
      ],
      "metadata": {
        "id": "1FEpR-zt698S"
      }
    },
    {
      "cell_type": "code",
      "source": [
        "num_float: float = 3.14\n",
        "print(num_float)"
      ],
      "metadata": {
        "colab": {
          "base_uri": "https://localhost:8080/"
        },
        "id": "6sZLPfkm7KBj",
        "outputId": "3eadb19a-9a6f-45c6-c141-bd8024836eac"
      },
      "execution_count": null,
      "outputs": [
        {
          "output_type": "stream",
          "name": "stdout",
          "text": [
            "3.14\n"
          ]
        }
      ]
    },
    {
      "cell_type": "markdown",
      "source": [
        "c. Complex"
      ],
      "metadata": {
        "id": "vcTArQGq7ihP"
      }
    },
    {
      "cell_type": "code",
      "source": [
        "num_complex: complex = 2 + 3j\n",
        "print(num_complex)"
      ],
      "metadata": {
        "colab": {
          "base_uri": "https://localhost:8080/"
        },
        "id": "KSTi95aE7mYo",
        "outputId": "c72e8630-5f57-48e6-b6eb-25cc6c613b4b"
      },
      "execution_count": null,
      "outputs": [
        {
          "output_type": "stream",
          "name": "stdout",
          "text": [
            "(2+3j)\n"
          ]
        }
      ]
    },
    {
      "cell_type": "markdown",
      "source": [
        "Set Types"
      ],
      "metadata": {
        "id": "KtBIH1lW8k2P"
      }
    },
    {
      "cell_type": "markdown",
      "source": [
        "a. Set"
      ],
      "metadata": {
        "id": "4ljAgC2X8p-v"
      }
    },
    {
      "cell_type": "code",
      "source": [
        "my_set: set = {1,2,3,4,5}\n",
        "print(my_set)"
      ],
      "metadata": {
        "colab": {
          "base_uri": "https://localhost:8080/"
        },
        "id": "xkiNiWhq8sJE",
        "outputId": "09e55eb1-a333-48f1-d69f-446530a95cf2"
      },
      "execution_count": null,
      "outputs": [
        {
          "output_type": "stream",
          "name": "stdout",
          "text": [
            "{1, 2, 3, 4, 5}\n"
          ]
        }
      ]
    },
    {
      "cell_type": "markdown",
      "source": [
        "b. Frozen Set"
      ],
      "metadata": {
        "id": "ed-3R3y-9ND9"
      }
    },
    {
      "cell_type": "code",
      "source": [
        "frozen_set = frozenset([1,2,3])\n",
        "print(frozen_set)"
      ],
      "metadata": {
        "colab": {
          "base_uri": "https://localhost:8080/"
        },
        "id": "vvydXcDj9Tim",
        "outputId": "b3ad4c1b-1979-48f2-d161-c6f91737a706"
      },
      "execution_count": null,
      "outputs": [
        {
          "output_type": "stream",
          "name": "stdout",
          "text": [
            "frozenset({1, 2, 3})\n"
          ]
        }
      ]
    },
    {
      "cell_type": "markdown",
      "source": [
        "5. Mapping Type"
      ],
      "metadata": {
        "id": "NILhB3OU9vDy"
      }
    },
    {
      "cell_type": "code",
      "source": [
        "my_dict: dict = {\"name\": \"Alice\", \"age\": 25, \"language\": \"python\"}\n",
        "print(my_dict)"
      ],
      "metadata": {
        "colab": {
          "base_uri": "https://localhost:8080/"
        },
        "id": "OhrwNcAh91u7",
        "outputId": "5530af15-4766-4d3d-e79c-8502693aa7e4"
      },
      "execution_count": null,
      "outputs": [
        {
          "output_type": "stream",
          "name": "stdout",
          "text": [
            "{'name': 'Alice', 'age': 25, 'language': 'python'}\n"
          ]
        }
      ]
    },
    {
      "cell_type": "markdown",
      "source": [
        "Comparison Operators"
      ],
      "metadata": {
        "id": "Dzv7dCUGJA1a"
      }
    },
    {
      "cell_type": "code",
      "source": [
        "a = 10\n",
        "b = 20\n",
        "\n",
        "print(a == b)\n",
        "print(a != b)\n",
        "print(a > b)\n",
        "print(a < b)\n",
        "print(a >= b)\n",
        "print(a <= b)"
      ],
      "metadata": {
        "colab": {
          "base_uri": "https://localhost:8080/"
        },
        "id": "vvMe59xfJXW4",
        "outputId": "2380ec75-54f5-4866-cf5e-520a97d95f9e"
      },
      "execution_count": 28,
      "outputs": [
        {
          "output_type": "stream",
          "name": "stdout",
          "text": [
            "False\n",
            "True\n",
            "False\n",
            "True\n",
            "False\n",
            "True\n"
          ]
        }
      ]
    },
    {
      "cell_type": "code",
      "source": [
        "my_age = 17\n",
        "\n",
        "print(my_age > 18)"
      ],
      "metadata": {
        "colab": {
          "base_uri": "https://localhost:8080/"
        },
        "id": "t_6SufZGNZwd",
        "outputId": "131fb88b-ca81-49b5-c50e-d5885971d242"
      },
      "execution_count": 29,
      "outputs": [
        {
          "output_type": "stream",
          "name": "stdout",
          "text": [
            "False\n"
          ]
        }
      ]
    },
    {
      "cell_type": "markdown",
      "source": [
        "If ,Else , Elif"
      ],
      "metadata": {
        "id": "WOzz-dJGOJtz"
      }
    },
    {
      "cell_type": "code",
      "source": [
        "my_age = 18\n",
        "\n",
        "if my_age >= 18:\n",
        "  print(\"You are Allowed\")\n",
        "else:\n",
        "  print(\"You are not Allowed\")\n",
        ""
      ],
      "metadata": {
        "colab": {
          "base_uri": "https://localhost:8080/"
        },
        "id": "OdRFGbRtOR0R",
        "outputId": "733b8d18-9e44-4a8f-a03c-a4f13658f648"
      },
      "execution_count": 38,
      "outputs": [
        {
          "output_type": "stream",
          "name": "stdout",
          "text": [
            "You are Allowed\n"
          ]
        }
      ]
    },
    {
      "cell_type": "code",
      "source": [
        "#Input example\n",
        "name = input(\"What is your name?\")\n",
        "print(\"Hi \" + name + \"!\")"
      ],
      "metadata": {
        "colab": {
          "base_uri": "https://localhost:8080/"
        },
        "id": "d-m1096WPqEU",
        "outputId": "f147460e-841e-4e17-e263-66bf5ad3aa6d"
      },
      "execution_count": 42,
      "outputs": [
        {
          "output_type": "stream",
          "name": "stdout",
          "text": [
            "What is your name?sania\n",
            "Hi sania!\n"
          ]
        }
      ]
    },
    {
      "cell_type": "markdown",
      "source": [
        "coditional statements"
      ],
      "metadata": {
        "id": "8Jqes_UyQ0ar"
      }
    },
    {
      "cell_type": "code",
      "source": [
        "# conditional statements if else elif\n",
        "age = int(input(\"Enter your age:\"))\n",
        "if age < 18:\n",
        "  print(\"You are a minor.\")\n",
        "elif age == 18:\n",
        "  print(\"you are a young person!\")\n",
        "elif age == 65:\n",
        "  print(\"You are a senior citizen.\")\n",
        "elif age >= 80:\n",
        "  print(\"You are a very old person\")\n",
        "else:\n",
        "  print(\"You are an adult.\")\n"
      ],
      "metadata": {
        "colab": {
          "base_uri": "https://localhost:8080/"
        },
        "id": "WP1_X0D-RBYw",
        "outputId": "464cf9c5-fa3f-47f9-d608-5a62b791622d"
      },
      "execution_count": 56,
      "outputs": [
        {
          "output_type": "stream",
          "name": "stdout",
          "text": [
            "Enter your age:65\n",
            "You are a senior citizen.\n"
          ]
        }
      ]
    }
  ]
}