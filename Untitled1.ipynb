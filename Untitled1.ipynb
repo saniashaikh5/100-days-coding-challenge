{
  "nbformat": 4,
  "nbformat_minor": 0,
  "metadata": {
    "colab": {
      "provenance": [],
      "authorship_tag": "ABX9TyN0q+yeKDtkZ2e3LJthaPXh",
      "include_colab_link": true
    },
    "kernelspec": {
      "name": "python3",
      "display_name": "Python 3"
    },
    "language_info": {
      "name": "python"
    }
  },
  "cells": [
    {
      "cell_type": "markdown",
      "metadata": {
        "id": "view-in-github",
        "colab_type": "text"
      },
      "source": [
        "<a href=\"https://colab.research.google.com/github/saniashaikh5/100-days-coding-challenge/blob/main/Untitled1.ipynb\" target=\"_parent\"><img src=\"https://colab.research.google.com/assets/colab-badge.svg\" alt=\"Open In Colab\"/></a>"
      ]
    },
    {
      "cell_type": "code",
      "execution_count": null,
      "metadata": {
        "colab": {
          "base_uri": "https://localhost:8080/"
        },
        "id": "XfIj71HQsiiR",
        "outputId": "c5c2b064-5f6f-44a5-c61d-837c64ad4e81"
      },
      "outputs": [
        {
          "output_type": "stream",
          "name": "stdout",
          "text": [
            "Hello\n"
          ]
        }
      ],
      "source": [
        "print(\"Hello\")"
      ]
    },
    {
      "cell_type": "code",
      "source": [
        "fav_food = \"Pizza\"\n",
        "print(fav_food)\n",
        "print(fav_food)\n",
        "print(fav_food)\n",
        "print(fav_food)"
      ],
      "metadata": {
        "colab": {
          "base_uri": "https://localhost:8080/"
        },
        "id": "eVqeoA0YsvXZ",
        "outputId": "fb43538e-f79f-41a8-907a-3441478053cf"
      },
      "execution_count": null,
      "outputs": [
        {
          "output_type": "stream",
          "name": "stdout",
          "text": [
            "Pizza\n",
            "Pizza\n",
            "Pizza\n",
            "Pizza\n"
          ]
        }
      ]
    },
    {
      "cell_type": "code",
      "source": [
        "fav_celebrity = \"Katrina Kaif\"\n",
        "print(fav_celebrity)\n",
        "fav_num = 5,8\n",
        "print(fav_num)"
      ],
      "metadata": {
        "colab": {
          "base_uri": "https://localhost:8080/"
        },
        "id": "Yh6K2lnCs9fb",
        "outputId": "2e1a1e58-0226-4719-de0c-bd42c764b677"
      },
      "execution_count": null,
      "outputs": [
        {
          "output_type": "stream",
          "name": "stdout",
          "text": [
            "Katrina Kaif\n",
            "(5, 8)\n"
          ]
        }
      ]
    },
    {
      "cell_type": "markdown",
      "source": [
        "Data Types\n",
        "string"
      ],
      "metadata": {
        "id": "HJRWUeuouN8B"
      }
    },
    {
      "cell_type": "code",
      "source": [
        "text_double: str = \"Hello, Python!\"\n",
        "print(text_double)"
      ],
      "metadata": {
        "colab": {
          "base_uri": "https://localhost:8080/"
        },
        "id": "sm-Z3GIcuVzw",
        "outputId": "825feb82-26ca-4d99-f991-2b73ed45b476"
      },
      "execution_count": null,
      "outputs": [
        {
          "output_type": "stream",
          "name": "stdout",
          "text": [
            "Hello, Python!\n"
          ]
        }
      ]
    },
    {
      "cell_type": "markdown",
      "source": [
        "Boolean"
      ],
      "metadata": {
        "id": "ExLUCnz9vV-t"
      }
    },
    {
      "cell_type": "code",
      "source": [
        "is_python_fun: bool = True\n",
        "print(is_python_fun)\n"
      ],
      "metadata": {
        "colab": {
          "base_uri": "https://localhost:8080/"
        },
        "id": "te7FI71rvbq_",
        "outputId": "ed7a92be-4346-49c1-9d44-6a672d9c3305"
      },
      "execution_count": null,
      "outputs": [
        {
          "output_type": "stream",
          "name": "stdout",
          "text": [
            "True\n"
          ]
        }
      ]
    },
    {
      "cell_type": "markdown",
      "source": [
        "List"
      ],
      "metadata": {
        "id": "jgfN15X0z97E"
      }
    },
    {
      "cell_type": "code",
      "source": [
        "my_list_1: int = [1,2,3, \"java\", 3.14, True]\n",
        "my_list: int = [1,2,3, \"python\", 3+2j]\n",
        "print(my_list_1)\n",
        "print(my_list)"
      ],
      "metadata": {
        "colab": {
          "base_uri": "https://localhost:8080/"
        },
        "id": "beum4ydW0Fd8",
        "outputId": "510e2662-7c6a-4ab1-81e0-600d8e5a4a8a"
      },
      "execution_count": null,
      "outputs": [
        {
          "output_type": "stream",
          "name": "stdout",
          "text": [
            "[1, 2, 3, 'java', 3.14, True]\n",
            "[1, 2, 3, 'python', (3+2j)]\n"
          ]
        }
      ]
    },
    {
      "cell_type": "markdown",
      "source": [
        "Tuple"
      ],
      "metadata": {
        "id": "JW3XOaMr41RG"
      }
    },
    {
      "cell_type": "code",
      "source": [
        "my_tuple: tuple = (1,2,3, \"AI\", 2.17, False, .3, 3+2j)\n",
        "print(my_tuple)"
      ],
      "metadata": {
        "colab": {
          "base_uri": "https://localhost:8080/"
        },
        "id": "ijiC56Hx44yK",
        "outputId": "33f009df-494b-4e47-d284-6133337b59eb"
      },
      "execution_count": null,
      "outputs": [
        {
          "output_type": "stream",
          "name": "stdout",
          "text": [
            "(1, 2, 3, 'AI', 2.17, False, 0.3, (3+2j))\n"
          ]
        }
      ]
    },
    {
      "cell_type": "markdown",
      "source": [
        "Range"
      ],
      "metadata": {
        "id": "wSCUOsvG5hul"
      }
    },
    {
      "cell_type": "code",
      "source": [
        "num_range: range = ( 1 , 10, 2,)\n",
        "print(num_range)"
      ],
      "metadata": {
        "colab": {
          "base_uri": "https://localhost:8080/"
        },
        "id": "3joxL1Jm5mMO",
        "outputId": "af473e4b-e71c-4aa0-9d6e-2506902b9972"
      },
      "execution_count": null,
      "outputs": [
        {
          "output_type": "stream",
          "name": "stdout",
          "text": [
            "(1, 10, 2, True)\n"
          ]
        }
      ]
    },
    {
      "cell_type": "markdown",
      "source": [
        "Numeric Types"
      ],
      "metadata": {
        "id": "kAiKFIu46iQq"
      }
    },
    {
      "cell_type": "markdown",
      "source": [
        "a. Integer"
      ],
      "metadata": {
        "id": "wGSRkaoD6m8H"
      }
    },
    {
      "cell_type": "code",
      "source": [
        "num_int: int = 42\n",
        "print(num_int)"
      ],
      "metadata": {
        "colab": {
          "base_uri": "https://localhost:8080/"
        },
        "id": "LKPR3igq6t19",
        "outputId": "8ff1426a-cdbe-4802-9cdc-862f380ad151"
      },
      "execution_count": null,
      "outputs": [
        {
          "output_type": "stream",
          "name": "stdout",
          "text": [
            "42.5\n"
          ]
        }
      ]
    },
    {
      "cell_type": "markdown",
      "source": [
        "b. Floating-Point"
      ],
      "metadata": {
        "id": "1FEpR-zt698S"
      }
    },
    {
      "cell_type": "code",
      "source": [
        "num_float: float = 3.14\n",
        "print(num_float)"
      ],
      "metadata": {
        "colab": {
          "base_uri": "https://localhost:8080/"
        },
        "id": "6sZLPfkm7KBj",
        "outputId": "3eadb19a-9a6f-45c6-c141-bd8024836eac"
      },
      "execution_count": null,
      "outputs": [
        {
          "output_type": "stream",
          "name": "stdout",
          "text": [
            "3.14\n"
          ]
        }
      ]
    },
    {
      "cell_type": "markdown",
      "source": [
        "c. Complex"
      ],
      "metadata": {
        "id": "vcTArQGq7ihP"
      }
    },
    {
      "cell_type": "code",
      "source": [
        "num_complex: complex = 2 + 3j\n",
        "print(num_complex)"
      ],
      "metadata": {
        "colab": {
          "base_uri": "https://localhost:8080/"
        },
        "id": "KSTi95aE7mYo",
        "outputId": "c72e8630-5f57-48e6-b6eb-25cc6c613b4b"
      },
      "execution_count": null,
      "outputs": [
        {
          "output_type": "stream",
          "name": "stdout",
          "text": [
            "(2+3j)\n"
          ]
        }
      ]
    },
    {
      "cell_type": "markdown",
      "source": [
        "Set Types"
      ],
      "metadata": {
        "id": "KtBIH1lW8k2P"
      }
    },
    {
      "cell_type": "markdown",
      "source": [
        "a. Set"
      ],
      "metadata": {
        "id": "4ljAgC2X8p-v"
      }
    },
    {
      "cell_type": "code",
      "source": [
        "my_set: set = {1,2,3,4,5}\n",
        "print(my_set)"
      ],
      "metadata": {
        "colab": {
          "base_uri": "https://localhost:8080/"
        },
        "id": "xkiNiWhq8sJE",
        "outputId": "09e55eb1-a333-48f1-d69f-446530a95cf2"
      },
      "execution_count": null,
      "outputs": [
        {
          "output_type": "stream",
          "name": "stdout",
          "text": [
            "{1, 2, 3, 4, 5}\n"
          ]
        }
      ]
    },
    {
      "cell_type": "markdown",
      "source": [
        "b. Frozen Set"
      ],
      "metadata": {
        "id": "ed-3R3y-9ND9"
      }
    },
    {
      "cell_type": "code",
      "source": [
        "frozen_set = frozenset([1,2,3])\n",
        "print(frozen_set)"
      ],
      "metadata": {
        "colab": {
          "base_uri": "https://localhost:8080/"
        },
        "id": "vvydXcDj9Tim",
        "outputId": "b3ad4c1b-1979-48f2-d161-c6f91737a706"
      },
      "execution_count": null,
      "outputs": [
        {
          "output_type": "stream",
          "name": "stdout",
          "text": [
            "frozenset({1, 2, 3})\n"
          ]
        }
      ]
    },
    {
      "cell_type": "markdown",
      "source": [
        "5. Mapping Type"
      ],
      "metadata": {
        "id": "NILhB3OU9vDy"
      }
    },
    {
      "cell_type": "code",
      "source": [
        "my_dict: dict = {\"name\": \"Alice\", \"age\": 25, \"language\": \"python\"}\n",
        "print(my_dict)"
      ],
      "metadata": {
        "colab": {
          "base_uri": "https://localhost:8080/"
        },
        "id": "OhrwNcAh91u7",
        "outputId": "5530af15-4766-4d3d-e79c-8502693aa7e4"
      },
      "execution_count": null,
      "outputs": [
        {
          "output_type": "stream",
          "name": "stdout",
          "text": [
            "{'name': 'Alice', 'age': 25, 'language': 'python'}\n"
          ]
        }
      ]
    }
  ]
}